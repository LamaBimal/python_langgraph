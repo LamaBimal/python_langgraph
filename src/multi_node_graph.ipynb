{
 "cells": [
  {
   "cell_type": "markdown",
   "id": "7f19113b",
   "metadata": {},
   "source": [
    "### Multi Node Example ####\n",
    "\n",
    " This example demonstrates how to create a multi-node graph using the `langgraph` library.\n",
    " The graph consists of two nodes: one for generating a greeting \n",
    " and another for appending additional information to the greeting.\n",
    "\n"
   ]
  },
  {
   "cell_type": "code",
   "execution_count": 88,
   "id": "216ff7b4",
   "metadata": {},
   "outputs": [],
   "source": [
    "#!/usr/bin/env python3\n",
    "from typing import TypedDict\n",
    "from langgraph.graph import StateGraph, START, END"
   ]
  },
  {
   "cell_type": "code",
   "execution_count": 89,
   "id": "8f2f59af",
   "metadata": {},
   "outputs": [],
   "source": [
    "class AgentState(TypedDict):\n",
    "    \"\"\"State for the agent.\"\"\"\n",
    "    name: str\n",
    "    age: int\n",
    "    city: str\n",
    "    result: str "
   ]
  },
  {
   "cell_type": "code",
   "execution_count": 90,
   "id": "eb067ede",
   "metadata": {},
   "outputs": [],
   "source": [
    "def greeting(state: AgentState) -> str:\n",
    "    \"\"\"Generate a greeting message.\"\"\"\n",
    "    state['result'] = f\"Hello {state['name']}\"\n",
    "    return state"
   ]
  },
  {
   "cell_type": "code",
   "execution_count": 91,
   "id": "bc647f13",
   "metadata": {},
   "outputs": [],
   "source": [
    "def append_info(state: AgentState) -> str:\n",
    "    \"\"\"Process the message and return the result.\"\"\"\n",
    "    state['result'] += f\", you are {state['age']} years old and live in {state['city']}.\"\n",
    "    return state"
   ]
  },
  {
   "cell_type": "code",
   "execution_count": 92,
   "id": "183537a3",
   "metadata": {},
   "outputs": [
    {
     "data": {
      "image/png": "[encoded data removed]",
      "text/plain": [
       "<langgraph.graph.state.CompiledStateGraph object at 0x0000014E392E5710>"
      ]
     },
     "execution_count": 92,
     "metadata": {},
     "output_type": "execute_result"
    }
   ],
   "source": [
    "graph = StateGraph(AgentState)\n",
    "graph.add_node(\"greeting\", greeting)\n",
    "graph.add_node(\"append_info\", append_info)\n",
    "graph.add_edge(START, \"greeting\")\n",
    "graph.add_edge(\"greeting\", \"append_info\")\n",
    "graph.add_edge(\"append_info\", END)\n",
    "\n",
    "# Example usage\n",
    "initial_state = {\n",
    "    'name': 'Alice',\n",
    "    'age': 30,\n",
    "    'city': 'Wonderland'\n",
    "}\n",
    "\n",
    "graph.compile(name=\"Multi_Node_Example\")\n"
   ]
  },
  {
   "cell_type": "code",
   "execution_count": 93,
   "id": "7623c001",
   "metadata": {},
   "outputs": [
    {
     "name": "stdout",
     "output_type": "stream",
     "text": [
      "Hello Alice, you are 30 years old and live in Wonderland.\n"
     ]
    }
   ],
   "source": [
    "final_state = graph.compile(name=\"Multi_Node_Example\")\n",
    "result = final_state.invoke(initial_state)\n",
    "print(result['result'])"
   ]
  }
 ],
 "metadata": {
  "kernelspec": {
   "display_name": ".venv",
   "language": "python",
   "name": "python3"
  },
  "language_info": {
   "codemirror_mode": {
    "name": "ipython",
    "version": 3
   },
   "file_extension": ".py",
   "mimetype": "text/x-python",
   "name": "python",
   "nbconvert_exporter": "python",
   "pygments_lexer": "ipython3",
   "version": "3.11.9"
  }
 },
 "nbformat": 4,
 "nbformat_minor": 5
}

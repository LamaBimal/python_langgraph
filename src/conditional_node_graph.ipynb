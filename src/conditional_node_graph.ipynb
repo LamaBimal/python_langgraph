{
 "cells": [
  {
   "cell_type": "markdown",
   "id": "2ebc98be",
   "metadata": {},
   "source": [
    "Conditional Node Graph"
   ]
  },
  {
   "cell_type": "code",
   "execution_count": 25,
   "id": "16278ee9",
   "metadata": {},
   "outputs": [],
   "source": [
    "from typing import TypedDict\n",
    "from langgraph.graph import StateGraph, START, END"
   ]
  },
  {
   "cell_type": "code",
   "execution_count": 26,
   "id": "c7ebe576",
   "metadata": {},
   "outputs": [],
   "source": [
    "class AgentState(TypedDict):\n",
    "    number1: int\n",
    "    operation: str\n",
    "    number2: int\n",
    "    result: str"
   ]
  },
  {
   "cell_type": "code",
   "execution_count": 27,
   "id": "630944c5",
   "metadata": {},
   "outputs": [],
   "source": [
    "def add_number(state: AgentState) -> AgentState:\n",
    "    output = state['number1'] + state['number2']\n",
    "    state['result'] = f\"The sum of {state['number1']} and {state['number2']} is {output}.\"\n",
    "    return state"
   ]
  },
  {
   "cell_type": "code",
   "execution_count": 28,
   "id": "481d14b0",
   "metadata": {},
   "outputs": [],
   "source": [
    "def subtract_number(state: AgentState) -> AgentState:\n",
    "    output = state['number1'] - state['number2']\n",
    "    state['result'] = f\"The difference when {state['number2']} is subtracted from {state['number1']} is {output}.\"\n",
    "    return state"
   ]
  },
  {
   "cell_type": "code",
   "execution_count": null,
   "id": "1e6af789",
   "metadata": {},
   "outputs": [],
   "source": [
    "def check_operation(state: AgentState) -> str:\n",
    "    if state['operation'] == 'add':\n",
    "        return 'add_operation'\n",
    "    elif state['operation'] == 'subtract':\n",
    "        return 'subtract_operation'\n",
    "    else:\n",
    "        raise ValueError(\"Unsupported operation. Please use 'add' or 'subtract'.\")"
   ]
  },
  {
   "cell_type": "code",
   "execution_count": null,
   "id": "cd182645",
   "metadata": {},
   "outputs": [
    {
     "data": {
      "image/png": "[encoded data removed]",
      "text/plain": [
       "<langgraph.graph.state.CompiledStateGraph object at 0x0000020E3AA9C190>"
      ]
     },
     "execution_count": 30,
     "metadata": {},
     "output_type": "execute_result"
    }
   ],
   "source": [
    "graph = StateGraph(AgentState)\n",
    "graph.add_edge(START, 'check_operation')\n",
    "graph.add_node('check_operation', lambda state: state)\n",
    "graph.add_conditional_edges('check_operation', check_operation, {\n",
    "    # Edge : Node\n",
    "    'add_operation': 'add',\n",
    "    'subtract_operation': 'subtract'\n",
    "})\n",
    "graph.add_node('add', add_number)\n",
    "graph.add_node('subtract', subtract_number)\n",
    "graph.add_edge('add', END)\n",
    "graph.add_edge('subtract', END)\n",
    "graph.compile(name='conditional_graph_example')"
   ]
  },
  {
   "cell_type": "code",
   "execution_count": 31,
   "id": "29c703db",
   "metadata": {},
   "outputs": [
    {
     "name": "stdout",
     "output_type": "stream",
     "text": [
      "The sum of 15 and 10 is 25.\n"
     ]
    }
   ],
   "source": [
    "initial_state: AgentState = {\n",
    "    'number1': 15,\n",
    "    'operation': 'add',  # Change to 'subtract' to test subtraction\n",
    "    'number2': 10,   \n",
    "    'result': ''\n",
    "}\n",
    "app = graph.compile(name='conditional_graph_example')\n",
    "final_state = app.invoke(initial_state)\n",
    "print(final_state['result'])\n"
   ]
  }
 ],
 "metadata": {
  "kernelspec": {
   "display_name": ".venv",
   "language": "python",
   "name": "python3"
  },
  "language_info": {
   "codemirror_mode": {
    "name": "ipython",
    "version": 3
   },
   "file_extension": ".py",
   "mimetype": "text/x-python",
   "name": "python",
   "nbconvert_exporter": "python",
   "pygments_lexer": "ipython3",
   "version": "3.11.9"
  }
 },
 "nbformat": 4,
 "nbformat_minor": 5
}

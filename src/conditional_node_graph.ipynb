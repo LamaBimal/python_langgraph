{
 "cells": [
  {
   "cell_type": "markdown",
   "id": "2ebc98be",
   "metadata": {},
   "source": [
    "Conditional Node Graph"
   ]
  },
  {
   "cell_type": "code",
   "execution_count": 22,
   "id": "16278ee9",
   "metadata": {},
   "outputs": [],
   "source": [
    "from typing import TypedDict\n",
    "from langgraph.graph import StateGraph, START, END"
   ]
  },
  {
   "cell_type": "code",
   "execution_count": 23,
   "id": "c7ebe576",
   "metadata": {},
   "outputs": [],
   "source": [
    "class AgentState(TypedDict):\n",
    "    number1: int\n",
    "    operation: str\n",
    "    number2: int\n",
    "    result: str"
   ]
  },
  {
   "cell_type": "code",
   "execution_count": 24,
   "id": "630944c5",
   "metadata": {},
   "outputs": [],
   "source": [
    "def add_number(state: AgentState) -> AgentState:\n",
    "    output = state['number1'] + state['number2']\n",
    "    state['result'] = f\"The sum of {state['number1']} and {state['number2']} is {output}.\"\n",
    "    return state"
   ]
  },
  {
   "cell_type": "code",
   "execution_count": 25,
   "id": "481d14b0",
   "metadata": {},
   "outputs": [],
   "source": [
    "def subtract_number(state: AgentState) -> AgentState:\n",
    "    output = state['number1'] - state['number2']\n",
    "    state['result'] = f\"The difference when {state['number2']} is subtracted from {state['number1']} is {output}.\"\n",
    "    return state"
   ]
  },
  {
   "cell_type": "code",
   "execution_count": 26,
   "id": "1e6af789",
   "metadata": {},
   "outputs": [],
   "source": [
    "def check_operation(state: AgentState) -> str:\n",
    "    if state['operation'] == 'add':\n",
    "        return 'add_operation'\n",
    "    elif state['operation'] == 'subtract':\n",
    "        return 'subtract_operation'\n",
    "    else:\n",
    "        raise ValueError(\"Unsupported operation. Please use 'add' or 'subtract'.\")"
   ]
  },
  {
   "cell_type": "code",
   "execution_count": 27,
   "id": "cd182645",
   "metadata": {},
   "outputs": [
    {
     "data": {
      "image/png": "[encoded data removed]",
      "text/plain": [
       "<langgraph.graph.state.CompiledStateGraph object at 0x779c415c3290>"
      ]
     },
     "execution_count": 27,
     "metadata": {},
     "output_type": "execute_result"
    }
   ],
   "source": [
    "graph = StateGraph(AgentState)\n",
    "graph.add_edge(START, 'check_operation')\n",
    "graph.add_node('check_operation', lambda state: state)\n",
    "graph.add_conditional_edges('check_operation', check_operation, {\n",
    "    # Edge : Node\n",
    "    'add_operation': 'add',\n",
    "    'subtract_operation': 'subtract'\n",
    "})\n",
    "graph.add_node('add', add_number)\n",
    "graph.add_node('subtract', subtract_number)\n",
    "graph.add_edge('add', END)\n",
    "graph.add_edge('subtract', END)\n",
    "graph.compile(name='conditional_graph_example')"
   ]
  },
  {
   "cell_type": "code",
   "execution_count": 28,
   "id": "29c703db",
   "metadata": {},
   "outputs": [
    {
     "name": "stdout",
     "output_type": "stream",
     "text": [
      "The sum of 15 and 10 is 25.\n"
     ]
    }
   ],
   "source": [
    "initial_state: AgentState = {\n",
    "    'number1': 15,\n",
    "    'operation': 'add',  # Change to 'subtract' to test subtraction\n",
    "    'number2': 10,   \n",
    "    'result': ''\n",
    "}\n",
    "app = graph.compile(name='conditional_graph_example')\n",
    "final_state = app.invoke(initial_state)\n",
    "print(final_state['result'])\n"
   ]
  },
  {
   "cell_type": "markdown",
   "id": "3ab48621",
   "metadata": {},
   "source": [
    "#### Exercise Assignment\n",
    "\n",
    "Make a graph with 2 conditional edges. Operation1 and Operation2 should perform sequentially\n",
    "\n",
    "Input: initial_state=AgentState(number1=10, number2=20, operation1='+',\n",
    "number3=5,operation2='-', number4=6, result1=0, result2=0)"
   ]
  },
  {
   "cell_type": "code",
   "execution_count": 1,
   "id": "eb22c55c",
   "metadata": {},
   "outputs": [],
   "source": [
    "from typing import TypedDict,List\n",
    "from langgraph.graph import StateGraph,START,END\n"
   ]
  },
  {
   "cell_type": "code",
   "execution_count": 11,
   "id": "aa6f45e9",
   "metadata": {},
   "outputs": [],
   "source": [
    "class AgentState(TypedDict):\n",
    "    number1:int\n",
    "    number2:int\n",
    "    operation1: str\n",
    "    number3: int\n",
    "    number4:int\n",
    "    operation2: str\n",
    "    result1:int\n",
    "    result2:int\n",
    "    response1:str\n",
    "    response2:str\n"
   ]
  },
  {
   "cell_type": "code",
   "execution_count": 12,
   "id": "6dcee215",
   "metadata": {},
   "outputs": [],
   "source": [
    "def add_operation1(state:AgentState)->AgentState:\n",
    "    state['result1'] = state['number1']+state['number2']\n",
    "    state['response1']=f\"Sum of {state['number1']} and {state['number2']} is {state['result1']}\"\n",
    "    return state"
   ]
  },
  {
   "cell_type": "code",
   "execution_count": null,
   "id": "4bb71cf7",
   "metadata": {},
   "outputs": [],
   "source": [
    "def subtract_operation1(state:AgentState)->AgentState:\n",
    "    state['result1']=state['number1']-state['number2']\n",
    "    state['response1']=f\"Subtract of {state['number1']} and {state['number2']} is {state['result1']}\"\n",
    "    return state"
   ]
  },
  {
   "cell_type": "code",
   "execution_count": 5,
   "id": "79539776",
   "metadata": {},
   "outputs": [],
   "source": [
    "def check_operation(state:AgentState)->AgentState:\n",
    "    if('add' in state['operation1']):\n",
    "        return \"add_operation\"\n",
    "    elif('sub' in state['operation1']):\n",
    "        return \"sub_opeation\"\n",
    "    else:\n",
    "        return END"
   ]
  },
  {
   "cell_type": "code",
   "execution_count": 6,
   "id": "c8d27575",
   "metadata": {},
   "outputs": [],
   "source": [
    "def add_operation2(state:AgentState)->AgentState:\n",
    "    state['result2'] = state['number3']+state['number4']\n",
    "    state['response2']=f\"Sum of {state['number3']} and {state['number4']} is {state['result2']}\"\n",
    "    return state"
   ]
  },
  {
   "cell_type": "code",
   "execution_count": 21,
   "id": "458927e5",
   "metadata": {},
   "outputs": [],
   "source": [
    "def subtract_operation2(state:AgentState)->AgentState:\n",
    "    state['result2']=state['number3']-state['number4']\n",
    "    state['response2']=f\"Subtract of {state['number3']} and {state['number4']} is {state['result2']}\"\n",
    "    return state"
   ]
  },
  {
   "cell_type": "code",
   "execution_count": 15,
   "id": "b7d74589",
   "metadata": {},
   "outputs": [],
   "source": [
    "def check_operation2(state:AgentState)->AgentState:\n",
    "    if(\"add\" in state['operation2']):\n",
    "        return \"add_operation2\"\n",
    "    elif(\"sub\" in state['operation2']):\n",
    "        return \"sub_operation2\""
   ]
  },
  {
   "cell_type": "code",
   "execution_count": 22,
   "id": "b356d6e2",
   "metadata": {},
   "outputs": [
    {
     "data": {
      "image/png": "[encoded data removed]",
      "text/plain": [
       "<langgraph.graph.state.CompiledStateGraph object at 0x7ed2fc75aed0>"
      ]
     },
     "execution_count": 22,
     "metadata": {},
     "output_type": "execute_result"
    }
   ],
   "source": [
    "graph = StateGraph(AgentState)\n",
    "graph.add_edge(START,\"router1\")\n",
    "graph.add_node(\"router1\", lambda state:state)\n",
    "graph.add_conditional_edges(\"router1\",check_operation,{\n",
    "    'add_operation':\"add_node\",\n",
    "    \"sub_operation\":\"subtract_node\"\n",
    "})\n",
    "graph.add_node(\"add_node\",add_operation1)\n",
    "graph.add_node(\"subtract_node\",subtract_operation1)\n",
    "\n",
    "graph.add_edge(\"add_node\",\"router2\")\n",
    "graph.add_edge(\"subtract_node\",\"router2\")\n",
    "\n",
    "graph.add_node(\"router2\",lambda state:state)\n",
    "graph.add_conditional_edges(\"router2\",check_operation2,{\n",
    "    \"add_operation2\":\"add_node2\",\n",
    "    \"sub_operation2\":\"subtract_node2\"\n",
    "})\n",
    "\n",
    "graph.add_node(\"add_node2\",add_operation2)\n",
    "graph.add_node(\"subtract_node2\",subtract_operation2)\n",
    "graph.add_edge(\"add_node2\",END)\n",
    "graph.add_edge(\"subtract_node2\",END)\n",
    "graph.compile()"
   ]
  },
  {
   "cell_type": "code",
   "execution_count": 23,
   "id": "35c5c29a",
   "metadata": {},
   "outputs": [
    {
     "data": {
      "text/plain": [
       "'Sum of 10 and 5 is 15'"
      ]
     },
     "execution_count": 23,
     "metadata": {},
     "output_type": "execute_result"
    }
   ],
   "source": [
    "state = AgentState(\n",
    "    number1=10,\n",
    "    number2=5,\n",
    "    operation1='add',\n",
    "    number3=5,\n",
    "    number4=4,\n",
    "    operation2='sub'\n",
    ")\n",
    "app = graph.compile()\n",
    "result = app.invoke(state)\n",
    "\n",
    "result['response1']"
   ]
  },
  {
   "cell_type": "code",
   "execution_count": 24,
   "id": "3fd0c02a",
   "metadata": {},
   "outputs": [
    {
     "data": {
      "text/plain": [
       "'Subtract of 5 and 4 is 1'"
      ]
     },
     "execution_count": 24,
     "metadata": {},
     "output_type": "execute_result"
    }
   ],
   "source": [
    "result['response2']"
   ]
  }
 ],
 "metadata": {
  "kernelspec": {
   "display_name": "Python 3",
   "language": "python",
   "name": "python3"
  },
  "language_info": {
   "codemirror_mode": {
    "name": "ipython",
    "version": 3
   },
   "file_extension": ".py",
   "mimetype": "text/x-python",
   "name": "python",
   "nbconvert_exporter": "python",
   "pygments_lexer": "ipython3",
   "version": "3.12.1"
  }
 },
 "nbformat": 4,
 "nbformat_minor": 5
}

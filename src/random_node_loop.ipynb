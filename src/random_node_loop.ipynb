{
 "cells": [
  {
   "cell_type": "markdown",
   "id": "6319e74d",
   "metadata": {},
   "source": [
    "##Loop Concept"
   ]
  },
  {
   "cell_type": "code",
   "execution_count": 2,
   "id": "6dfd468b",
   "metadata": {},
   "outputs": [],
   "source": [
    "from typing import TypedDict,Dict, List\n",
    "from langgraph.graph import StateGraph, START, END\n",
    "import random"
   ]
  },
  {
   "cell_type": "code",
   "execution_count": 10,
   "id": "a513a71f",
   "metadata": {},
   "outputs": [],
   "source": [
    "class AgentState(TypedDict):\n",
    "    name:str\n",
    "    number: List[str]=[]\n",
    "    counter: int"
   ]
  },
  {
   "cell_type": "code",
   "execution_count": 11,
   "id": "cdb02939",
   "metadata": {},
   "outputs": [],
   "source": [
    "def greeting_node(state:AgentState) -> AgentState:\n",
    "    state['name'] = f'Hi ! there {state['name']}'\n",
    "    return state"
   ]
  },
  {
   "cell_type": "code",
   "execution_count": 18,
   "id": "a403bde3",
   "metadata": {},
   "outputs": [],
   "source": [
    "def random_node(state:AgentState) -> AgentState:\n",
    "    state['number'].append(random.randint(1,10))\n",
    "    state['counter']=state['counter']+1\n",
    "    return state"
   ]
  },
  {
   "cell_type": "code",
   "execution_count": 19,
   "id": "23db23c5",
   "metadata": {},
   "outputs": [],
   "source": [
    "def should_continue(state:AgentState) -> AgentState:\n",
    "    if(state['counter'] <= 5):\n",
    "        return \"random\"\n",
    "    else:\n",
    "        return \"exit\""
   ]
  },
  {
   "cell_type": "code",
   "execution_count": 24,
   "id": "6e5ae0c2",
   "metadata": {},
   "outputs": [
    {
     "data": {
      "image/png": "[encoded data removed]",
      "text/plain": [
       "<langgraph.graph.state.CompiledStateGraph object at 0x7d05f3703e90>"
      ]
     },
     "execution_count": 24,
     "metadata": {},
     "output_type": "execute_result"
    }
   ],
   "source": [
    "graph = StateGraph(AgentState)\n",
    "graph.add_edge(START,\"greeting_node\")\n",
    "graph.add_node(\"greeting_node\",greeting_node)\n",
    "graph.add_edge(\"greeting_node\",\"random_node\")\n",
    "graph.add_node(\"random_node\",random_node)\n",
    "#graph.add_node(\"should_contine\",lambda agent:agent)\n",
    "graph.add_conditional_edges(\"random_node\",should_continue,{\n",
    "    \"random\":\"random_node\",\n",
    "    \"exit\": END\n",
    "})\n",
    "graph.compile()"
   ]
  },
  {
   "cell_type": "code",
   "execution_count": 22,
   "id": "b3ced121",
   "metadata": {},
   "outputs": [
    {
     "data": {
      "text/plain": [
       "{'name': 'Hi ! there Bimal', 'number': [4, 3, 4, 2, 2], 'counter': 6}"
      ]
     },
     "execution_count": 22,
     "metadata": {},
     "output_type": "execute_result"
    }
   ],
   "source": [
    "app = graph.compile(name=\"Loop Lang graph\")\n",
    "initial_state = AgentState(\n",
    "    name='Bimal',\n",
    "    number=[],\n",
    "    counter=1\n",
    ")\n",
    "app.invoke(initial_state)"
   ]
  },
  {
   "cell_type": "markdown",
   "id": "dc8dcae7",
   "metadata": {},
   "source": [
    "Exercise:\n",
    "\n",
    "You need to make a automatic higher or lower game.\n",
    "Sets the bounds between 1 and 20. The graph has to keep guessing (max number of guesses is 7) where if the guess is correct, then it stops, but if not we keep looping until we hit the max limit of 7.\n",
    "\n",
    "Each time a number is guessed, the hint node should say higher or lower and the graph should account for this information and guess the next guess accordingly.\n",
    "\n",
    "Input: {\"player_name\":\"Student\", \"guesses\":[], \"attempts\":0, \"lower_bound\":1,\"upper_bound\":20}\n",
    "\n",
    "Hint: It will need to adjust its bounds after every guess based on the hint provide by hint node. \n"
   ]
  },
  {
   "cell_type": "code",
   "execution_count": 64,
   "id": "f99ee5ce",
   "metadata": {},
   "outputs": [],
   "source": [
    "from typing import TypedDict,List\n",
    "from langgraph.graph import StateGraph, START, END\n",
    "import random"
   ]
  },
  {
   "cell_type": "code",
   "execution_count": 72,
   "id": "12c09bf9",
   "metadata": {},
   "outputs": [],
   "source": [
    "class AgentState(TypedDict):\n",
    "    player_name:str\n",
    "    guesses: List[int]\n",
    "    attempts: int\n",
    "    lower_bound: int\n",
    "    upper_bound: int\n",
    "    target:int\n",
    "    result:str\n",
    "    hint:str\n",
    "    max_guess:str"
   ]
  },
  {
   "cell_type": "code",
   "execution_count": 73,
   "id": "0cee7306",
   "metadata": {},
   "outputs": [],
   "source": [
    "def setup_node(state:AgentState)-> AgentState:\n",
    "    state['guesses']=[]\n",
    "    state['attempts']=0\n",
    "    state['lower_bound']=1\n",
    "    state['upper_bound']=20\n",
    "    state['target'] = random.randint(state['lower_bound'],state['upper_bound'])\n",
    "    state['result']=f\"Hey !! {state['player_name']}. The target value is {state['target']}.\"\n",
    "    state['hint']=''\n",
    "    state['max_guess']=7\n",
    "    return state"
   ]
  },
  {
   "cell_type": "code",
   "execution_count": 79,
   "id": "66011b2a",
   "metadata": {},
   "outputs": [],
   "source": [
    "def guess_node(state:AgentState):\n",
    "\n",
    "    if(state['guesses']):\n",
    "        last_guess = state['guesses'][-1]\n",
    "        print(state)\n",
    "\n",
    "        if('guess is high' in state['hint']):\n",
    "            state['upper_bound'] = last_guess-1\n",
    "        elif ('guess is low' in state['hint']):\n",
    "            state['lower_bound'] = last_guess+1\n",
    "    \n",
    "    if(state['attempts']<state['max_guess']):\n",
    "        guess=random.randint(state['lower_bound'],state['upper_bound'])\n",
    "        state['guesses'].append(guess)\n",
    "        state['attempts']=state['attempts']+1\n",
    "        if(guess > state['target']):\n",
    "            state['hint'] = 'guess is high'\n",
    "        elif (guess < state['target']):\n",
    "            state['hint'] = 'guess is low'\n",
    "        else:\n",
    "            state['hint'] = 'guess is matched'\n",
    "            state['result'] = state['result'] + f\" Congratulations !! Your guess is correct with attempt {state['attempts']}\"\n",
    "\n",
    "    else:\n",
    "        state['hint'] = 'Limit exceeded'\n",
    "        state['result'] = state['result']+ f\"Your limit is exceeded. Your guesses is {state['guesses']}\"\n",
    "    \n",
    "    return state"
   ]
  },
  {
   "cell_type": "code",
   "execution_count": null,
   "id": "5e4f6293",
   "metadata": {},
   "outputs": [],
   "source": [
    "#"
   ]
  },
  {
   "cell_type": "code",
   "execution_count": null,
   "id": "93d4e531",
   "metadata": {},
   "outputs": [],
   "source": [
    "def hint_node(state:AgentState) -> AgentState:\n",
    "    if('Limit exceeded' in state['hint'] or 'guess is matched' in state['hint']):\n",
    "        return \"exit\"\n",
    "    else:\n",
    "        return \"continue\"\n"
   ]
  },
  {
   "cell_type": "code",
   "execution_count": 82,
   "id": "6e269576",
   "metadata": {},
   "outputs": [
    {
     "data": {
      "image/png": "[encoded data removed]",
      "text/plain": [
       "<langgraph.graph.state.CompiledStateGraph object at 0x7b1f5d8b5100>"
      ]
     },
     "execution_count": 82,
     "metadata": {},
     "output_type": "execute_result"
    }
   ],
   "source": [
    "graph = StateGraph(AgentState)\n",
    "graph.add_node('setup_node',setup_node)\n",
    "graph.add_node('guess_node',guess_node)\n",
    "graph.add_node('hint_node',lambda state:state)\n",
    "graph.add_edge(START,\"setup_node\")\n",
    "graph.add_edge(\"setup_node\",\"guess_node\")\n",
    "graph.add_edge(\"guess_node\",\"hint_node\")\n",
    "graph.add_conditional_edges(\"hint_node\",hint_node,{\n",
    "    \"exit\": END,\n",
    "    \"continue\":\"guess_node\"\n",
    "})\n",
    "graph.compile()"
   ]
  },
  {
   "cell_type": "code",
   "execution_count": 84,
   "id": "a8bd91ae",
   "metadata": {},
   "outputs": [
    {
     "name": "stdout",
     "output_type": "stream",
     "text": [
      "===== hint node started ======\n",
      "{'player_name': 'Bimal', 'guesses': [19], 'attempts': 1, 'lower_bound': 1, 'upper_bound': 20, 'target': 11, 'result': 'Hey !! Bimal. The target value is 11.', 'hint': 'guess is high', 'max_guess': 7}\n",
      "{'player_name': 'Bimal', 'guesses': [19], 'attempts': 1, 'lower_bound': 1, 'upper_bound': 20, 'target': 11, 'result': 'Hey !! Bimal. The target value is 11.', 'hint': 'guess is high', 'max_guess': 7}\n",
      "===== hint node started ======\n",
      "{'player_name': 'Bimal', 'guesses': [19, 18], 'attempts': 2, 'lower_bound': 1, 'upper_bound': 18, 'target': 11, 'result': 'Hey !! Bimal. The target value is 11.', 'hint': 'guess is high', 'max_guess': 7}\n",
      "{'player_name': 'Bimal', 'guesses': [19, 18], 'attempts': 2, 'lower_bound': 1, 'upper_bound': 18, 'target': 11, 'result': 'Hey !! Bimal. The target value is 11.', 'hint': 'guess is high', 'max_guess': 7}\n",
      "===== hint node started ======\n",
      "{'player_name': 'Bimal', 'guesses': [19, 18, 3], 'attempts': 3, 'lower_bound': 1, 'upper_bound': 17, 'target': 11, 'result': 'Hey !! Bimal. The target value is 11.', 'hint': 'guess is low', 'max_guess': 7}\n",
      "{'player_name': 'Bimal', 'guesses': [19, 18, 3], 'attempts': 3, 'lower_bound': 1, 'upper_bound': 17, 'target': 11, 'result': 'Hey !! Bimal. The target value is 11.', 'hint': 'guess is low', 'max_guess': 7}\n",
      "===== hint node started ======\n",
      "{'player_name': 'Bimal', 'guesses': [19, 18, 3, 6], 'attempts': 4, 'lower_bound': 4, 'upper_bound': 17, 'target': 11, 'result': 'Hey !! Bimal. The target value is 11.', 'hint': 'guess is low', 'max_guess': 7}\n",
      "{'player_name': 'Bimal', 'guesses': [19, 18, 3, 6], 'attempts': 4, 'lower_bound': 4, 'upper_bound': 17, 'target': 11, 'result': 'Hey !! Bimal. The target value is 11.', 'hint': 'guess is low', 'max_guess': 7}\n",
      "===== hint node started ======\n",
      "{'player_name': 'Bimal', 'guesses': [19, 18, 3, 6, 15], 'attempts': 5, 'lower_bound': 7, 'upper_bound': 17, 'target': 11, 'result': 'Hey !! Bimal. The target value is 11.', 'hint': 'guess is high', 'max_guess': 7}\n",
      "{'player_name': 'Bimal', 'guesses': [19, 18, 3, 6, 15], 'attempts': 5, 'lower_bound': 7, 'upper_bound': 17, 'target': 11, 'result': 'Hey !! Bimal. The target value is 11.', 'hint': 'guess is high', 'max_guess': 7}\n",
      "===== hint node started ======\n",
      "{'player_name': 'Bimal', 'guesses': [19, 18, 3, 6, 15, 12], 'attempts': 6, 'lower_bound': 7, 'upper_bound': 14, 'target': 11, 'result': 'Hey !! Bimal. The target value is 11.', 'hint': 'guess is high', 'max_guess': 7}\n",
      "{'player_name': 'Bimal', 'guesses': [19, 18, 3, 6, 15, 12], 'attempts': 6, 'lower_bound': 7, 'upper_bound': 14, 'target': 11, 'result': 'Hey !! Bimal. The target value is 11.', 'hint': 'guess is high', 'max_guess': 7}\n",
      "===== hint node started ======\n",
      "{'player_name': 'Bimal', 'guesses': [19, 18, 3, 6, 15, 12, 9], 'attempts': 7, 'lower_bound': 7, 'upper_bound': 11, 'target': 11, 'result': 'Hey !! Bimal. The target value is 11.', 'hint': 'guess is low', 'max_guess': 7}\n",
      "{'player_name': 'Bimal', 'guesses': [19, 18, 3, 6, 15, 12, 9], 'attempts': 7, 'lower_bound': 7, 'upper_bound': 11, 'target': 11, 'result': 'Hey !! Bimal. The target value is 11.', 'hint': 'guess is low', 'max_guess': 7}\n",
      "===== hint node started ======\n",
      "{'player_name': 'Bimal', 'guesses': [19, 18, 3, 6, 15, 12, 9], 'attempts': 7, 'lower_bound': 10, 'upper_bound': 11, 'target': 11, 'result': 'Hey !! Bimal. The target value is 11.Your limit is exceeded. Your guesses is [19, 18, 3, 6, 15, 12, 9]', 'hint': 'Limit exceeded', 'max_guess': 7}\n"
     ]
    },
    {
     "data": {
      "text/plain": [
       "{'player_name': 'Bimal',\n",
       " 'guesses': [19, 18, 3, 6, 15, 12, 9],\n",
       " 'attempts': 7,\n",
       " 'lower_bound': 10,\n",
       " 'upper_bound': 11,\n",
       " 'target': 11,\n",
       " 'result': 'Hey !! Bimal. The target value is 11.Your limit is exceeded. Your guesses is [19, 18, 3, 6, 15, 12, 9]',\n",
       " 'hint': 'Limit exceeded',\n",
       " 'max_guess': 7}"
      ]
     },
     "execution_count": 84,
     "metadata": {},
     "output_type": "execute_result"
    }
   ],
   "source": [
    "initial_state = AgentState(\n",
    "    player_name='Bimal',\n",
    "    hint=''\n",
    ")\n",
    "app = graph.compile()\n",
    "app.invoke(initial_state)"
   ]
  }
 ],
 "metadata": {
  "kernelspec": {
   "display_name": "Python 3",
   "language": "python",
   "name": "python3"
  },
  "language_info": {
   "codemirror_mode": {
    "name": "ipython",
    "version": 3
   },
   "file_extension": ".py",
   "mimetype": "text/x-python",
   "name": "python",
   "nbconvert_exporter": "python",
   "pygments_lexer": "ipython3",
   "version": "3.12.1"
  }
 },
 "nbformat": 4,
 "nbformat_minor": 5
}

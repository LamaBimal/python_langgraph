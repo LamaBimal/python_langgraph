{
 "cells": [
  {
   "cell_type": "markdown",
   "id": "6319e74d",
   "metadata": {},
   "source": [
    "##Loop Concept"
   ]
  },
  {
   "cell_type": "code",
   "execution_count": 2,
   "id": "6dfd468b",
   "metadata": {},
   "outputs": [],
   "source": [
    "from typing import TypedDict,Dict, List\n",
    "from langgraph.graph import StateGraph, START, END\n",
    "import random"
   ]
  },
  {
   "cell_type": "code",
   "execution_count": 10,
   "id": "a513a71f",
   "metadata": {},
   "outputs": [],
   "source": [
    "class AgentState(TypedDict):\n",
    "    name:str\n",
    "    number: List[str]=[]\n",
    "    counter: int"
   ]
  },
  {
   "cell_type": "code",
   "execution_count": 11,
   "id": "cdb02939",
   "metadata": {},
   "outputs": [],
   "source": [
    "def greeting_node(state:AgentState) -> AgentState:\n",
    "    state['name'] = f'Hi ! there {state['name']}'\n",
    "    return state"
   ]
  },
  {
   "cell_type": "code",
   "execution_count": 18,
   "id": "a403bde3",
   "metadata": {},
   "outputs": [],
   "source": [
    "def random_node(state:AgentState) -> AgentState:\n",
    "    state['number'].append(random.randint(1,10))\n",
    "    state['counter']=state['counter']+1\n",
    "    return state"
   ]
  },
  {
   "cell_type": "code",
   "execution_count": 19,
   "id": "23db23c5",
   "metadata": {},
   "outputs": [],
   "source": [
    "def should_continue(state:AgentState) -> AgentState:\n",
    "    if(state['counter'] <= 5):\n",
    "        return \"random\"\n",
    "    else:\n",
    "        return \"exit\""
   ]
  },
  {
   "cell_type": "code",
   "execution_count": 24,
   "id": "6e5ae0c2",
   "metadata": {},
   "outputs": [
    {
     "data": {
      "image/png": "[encoded data removed]",
      "text/plain": [
       "<langgraph.graph.state.CompiledStateGraph object at 0x7d05f3703e90>"
      ]
     },
     "execution_count": 24,
     "metadata": {},
     "output_type": "execute_result"
    }
   ],
   "source": [
    "graph = StateGraph(AgentState)\n",
    "graph.add_edge(START,\"greeting_node\")\n",
    "graph.add_node(\"greeting_node\",greeting_node)\n",
    "graph.add_edge(\"greeting_node\",\"random_node\")\n",
    "graph.add_node(\"random_node\",random_node)\n",
    "#graph.add_node(\"should_contine\",lambda agent:agent)\n",
    "graph.add_conditional_edges(\"random_node\",should_continue,{\n",
    "    \"random\":\"random_node\",\n",
    "    \"exit\": END\n",
    "})\n",
    "graph.compile()"
   ]
  },
  {
   "cell_type": "code",
   "execution_count": 22,
   "id": "b3ced121",
   "metadata": {},
   "outputs": [
    {
     "data": {
      "text/plain": [
       "{'name': 'Hi ! there Bimal', 'number': [4, 3, 4, 2, 2], 'counter': 6}"
      ]
     },
     "execution_count": 22,
     "metadata": {},
     "output_type": "execute_result"
    }
   ],
   "source": [
    "app = graph.compile(name=\"Loop Lang graph\")\n",
    "initial_state = AgentState(\n",
    "    name='Bimal',\n",
    "    number=[],\n",
    "    counter=1\n",
    ")\n",
    "app.invoke(initial_state)"
   ]
  }
 ],
 "metadata": {
  "kernelspec": {
   "display_name": "Python 3",
   "language": "python",
   "name": "python3"
  },
  "language_info": {
   "codemirror_mode": {
    "name": "ipython",
    "version": 3
   },
   "file_extension": ".py",
   "mimetype": "text/x-python",
   "name": "python",
   "nbconvert_exporter": "python",
   "pygments_lexer": "ipython3",
   "version": "3.12.1"
  }
 },
 "nbformat": 4,
 "nbformat_minor": 5
}
